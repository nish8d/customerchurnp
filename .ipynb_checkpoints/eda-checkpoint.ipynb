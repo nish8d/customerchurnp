{
 "cells": [
  {
   "cell_type": "code",
   "execution_count": null,
   "id": "8ffa36a1-d33e-4a0c-bda8-893ba324614d",
   "metadata": {},
   "outputs": [],
   "source": [
    "import pandas as pd\n",
    "\n",
    "# Load the dataset from the data folder\n",
    "df = pd.read_csv(\"D:\\datascienceprojects\\customerchurnp\\data\\data.csv\")\n",
    "\n",
    "# Display the first 5 rows\n",
    "df.head()"
   ]
  }
 ],
 "metadata": {
  "kernelspec": {
   "display_name": "Python 3 (ipykernel)",
   "language": "python",
   "name": "python3"
  },
  "language_info": {
   "codemirror_mode": {
    "name": "ipython",
    "version": 3
   },
   "file_extension": ".py",
   "mimetype": "text/x-python",
   "name": "python",
   "nbconvert_exporter": "python",
   "pygments_lexer": "ipython3",
   "version": "3.12.8"
  }
 },
 "nbformat": 4,
 "nbformat_minor": 5
}
